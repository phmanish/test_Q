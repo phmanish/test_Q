{
 "cells": [
  {
   "cell_type": "code",
   "execution_count": 148,
   "metadata": {},
   "outputs": [
    {
     "data": {
      "text/plain": [
       "a    1\n",
       "b    2\n",
       "c    3\n",
       "d    4\n",
       "e    5\n",
       "f    6\n",
       "dtype: int64"
      ]
     },
     "execution_count": 148,
     "metadata": {},
     "output_type": "execute_result"
    }
   ],
   "source": [
    "# print a one dimensional array\n",
    "import pandas as pd\n",
    "ser_a = ['a','b','c','d','e','f']\n",
    "ser_b = [1,2,3,4,5,6]\n",
    "oned_array = pd.Series(ser_b, index=ser_a)\n",
    "oned_array"
   ]
  },
  {
   "cell_type": "code",
   "execution_count": 5,
   "metadata": {},
   "outputs": [
    {
     "data": {
      "text/plain": [
       "[1, 2, 3, 4, 5, 6]"
      ]
     },
     "execution_count": 5,
     "metadata": {},
     "output_type": "execute_result"
    }
   ],
   "source": [
    "# Convert pandas seried to list\n",
    "oned_list = oned_array.to_list()\n",
    "oned_list"
   ]
  },
  {
   "cell_type": "code",
   "execution_count": null,
   "metadata": {},
   "outputs": [],
   "source": [
    "# Function for adding, subtracting, multiplying or dividing series\n",
    "series_1 = pd.Series([1, 2, 3, 4, 5])\n",
    "series_2 = pd.Series([5, 4, 3, 2, 1])\n",
    "\n",
    "def df_func(ser_a, ser_b, act_ser):\n",
    "    if act_ser == 'add':\n",
    "        print(series_1.add(series_2))\n",
    "    elif act_ser == 'sub':\n",
    "        print(series_1.sub(series_2))\n",
    "    elif act_ser == 'mul':\n",
    "        print(series_1.mul(series_2))\n",
    "    elif act_ser == 'div':\n",
    "        print(series_1.div(series_2))\n",
    "\n",
    "df_func(series_1, series_2, 'div')"
   ]
  },
  {
   "cell_type": "code",
   "execution_count": 236,
   "metadata": {},
   "outputs": [
    {
     "data": {
      "text/html": [
       "<div>\n",
       "<style scoped>\n",
       "    .dataframe tbody tr th:only-of-type {\n",
       "        vertical-align: middle;\n",
       "    }\n",
       "\n",
       "    .dataframe tbody tr th {\n",
       "        vertical-align: top;\n",
       "    }\n",
       "\n",
       "    .dataframe thead th {\n",
       "        text-align: right;\n",
       "    }\n",
       "</style>\n",
       "<table border=\"1\" class=\"dataframe\">\n",
       "  <thead>\n",
       "    <tr style=\"text-align: right;\">\n",
       "      <th></th>\n",
       "      <th>self</th>\n",
       "      <th>other</th>\n",
       "    </tr>\n",
       "  </thead>\n",
       "  <tbody>\n",
       "    <tr>\n",
       "      <th>0</th>\n",
       "      <td>1.0</td>\n",
       "      <td>5.0</td>\n",
       "    </tr>\n",
       "    <tr>\n",
       "      <th>1</th>\n",
       "      <td>2.0</td>\n",
       "      <td>4.0</td>\n",
       "    </tr>\n",
       "    <tr>\n",
       "      <th>3</th>\n",
       "      <td>4.0</td>\n",
       "      <td>2.0</td>\n",
       "    </tr>\n",
       "    <tr>\n",
       "      <th>4</th>\n",
       "      <td>5.0</td>\n",
       "      <td>1.0</td>\n",
       "    </tr>\n",
       "  </tbody>\n",
       "</table>\n",
       "</div>"
      ],
      "text/plain": [
       "   self  other\n",
       "0   1.0    5.0\n",
       "1   2.0    4.0\n",
       "3   4.0    2.0\n",
       "4   5.0    1.0"
      ]
     },
     "execution_count": 236,
     "metadata": {},
     "output_type": "execute_result"
    }
   ],
   "source": [
    "# Comparing 2 series\n",
    "series_1.compare(series_2)"
   ]
  },
  {
   "cell_type": "code",
   "execution_count": null,
   "metadata": {},
   "outputs": [],
   "source": [
    "# Create series from a dictionary\n",
    "sample_dict = {'a':1, 'b':2, 'c':3, 'd':4}\n",
    "dict_ser = pd.Series(sample_dict)\n",
    "dict_ser"
   ]
  },
  {
   "cell_type": "code",
   "execution_count": 40,
   "metadata": {},
   "outputs": [
    {
     "data": {
      "text/plain": [
       "0    5\n",
       "1    7\n",
       "2    5\n",
       "3    6\n",
       "4    4\n",
       "dtype: int32"
      ]
     },
     "execution_count": 40,
     "metadata": {},
     "output_type": "execute_result"
    }
   ],
   "source": [
    "# Convert Numpy arrray to a series\n",
    "import numpy as np\n",
    "np_array = np.random.randint(8, size=5)\n",
    "# np_array\n",
    "ser_np = pd.Series(np_array)\n",
    "ser_np"
   ]
  },
  {
   "cell_type": "code",
   "execution_count": 80,
   "metadata": {},
   "outputs": [
    {
     "data": {
      "text/plain": [
       "0    100.00\n",
       "1    200.00\n",
       "2       NaN\n",
       "3    300.12\n",
       "4    400.00\n",
       "dtype: float64"
      ]
     },
     "execution_count": 80,
     "metadata": {},
     "output_type": "execute_result"
    }
   ],
   "source": [
    "# Changing column data type from string to integer and return string as 'NaN'\n",
    "list_1 = [100, 200, 'python', 300.12, 400]\n",
    "l_ser = pd.Series(list_1)\n",
    "# l_ser.dtype\n",
    "# l_ser.astype(int, errors='ignore')\n",
    "# l_ser.convert_dtypes(convert_integer=True, convert_string=False)\n",
    "# l_ser.astype('Float32', errors='coerce')\n",
    "upd_ser = pd.to_numeric(l_ser, errors='coerce')\n",
    "upd_ser"
   ]
  },
  {
   "cell_type": "code",
   "execution_count": 78,
   "metadata": {},
   "outputs": [
    {
     "data": {
      "text/plain": [
       "pandas.core.frame.DataFrame"
      ]
     },
     "execution_count": 78,
     "metadata": {},
     "output_type": "execute_result"
    }
   ],
   "source": [
    "# Generate series from a dataframe\n",
    "import random as rdm\n",
    "# df_1 = pd.DataFrame({'col_1' : [1,2,3,4,7,11], 'col_2':[4,5,6,9,5,0], 'col_3':[7,5,8,12,1,11]})\n",
    "# df_1\n",
    "def generat_list(count_1: int):\n",
    "    rand_list = []\n",
    "    for i in range(0,count_1):\n",
    "        rand_list.append(rdm.randint(1,9))\n",
    "    return rand_list\n",
    "df_1 = pd.DataFrame({'col_1' : generat_list(5), 'col_2': generat_list(5), 'col_3': generat_list(5)})\n",
    "df_1['col_1']"
   ]
  },
  {
   "cell_type": "code",
   "execution_count": 83,
   "metadata": {},
   "outputs": [
    {
     "data": {
      "text/plain": [
       "<NumpyExtensionArray>\n",
       "[100, 200, 'python', 300.12, 400]\n",
       "Length: 5, dtype: object"
      ]
     },
     "execution_count": 83,
     "metadata": {},
     "output_type": "execute_result"
    }
   ],
   "source": [
    "# Converting given series to a numpy array\n",
    "l_ser.array"
   ]
  },
  {
   "cell_type": "code",
   "execution_count": 97,
   "metadata": {},
   "outputs": [
    {
     "data": {
      "text/plain": [
       "0       Red\n",
       "1     Green\n",
       "2     White\n",
       "3       Red\n",
       "4     Black\n",
       "5    Yellow\n",
       "dtype: object"
      ]
     },
     "execution_count": 97,
     "metadata": {},
     "output_type": "execute_result"
    }
   ],
   "source": [
    "# Convert a series of lists to a list\n",
    "list_1 = ['Red', 'Green', 'White']\n",
    "list_2 = ['Red', 'Black']\n",
    "list_3 = ['Yellow']\n",
    "ser_list = pd.Series([list_1,list_2,list_3])\n",
    "# ser_list\n",
    "# ser_list.explode()\n",
    "ser_list.apply(pd.Series).stack().reset_index(drop=True)"
   ]
  },
  {
   "cell_type": "code",
   "execution_count": 146,
   "metadata": {},
   "outputs": [
    {
     "data": {
      "text/plain": [
       "0       100\n",
       "4       200\n",
       "3    300.12\n",
       "1       400\n",
       "2    python\n",
       "dtype: object"
      ]
     },
     "execution_count": 146,
     "metadata": {},
     "output_type": "execute_result"
    }
   ],
   "source": [
    "# Sort a series\n",
    "unsort_l = ['100', '400', 'python', '300.12', '200']\n",
    "pd_ser = pd.Series(unsort_l)\n",
    "# pd_ser\n",
    "sort_ser = pd_ser.sort_values()\n",
    "sort_ser"
   ]
  },
  {
   "cell_type": "code",
   "execution_count": 176,
   "metadata": {},
   "outputs": [
    {
     "data": {
      "text/plain": [
       "0       100\n",
       "1       400\n",
       "2    python\n",
       "3    300.12\n",
       "4       200\n",
       "5       php\n",
       "dtype: object"
      ]
     },
     "execution_count": 176,
     "metadata": {},
     "output_type": "execute_result"
    }
   ],
   "source": [
    "# Insert data into a series\n",
    "\n",
    "# add_ser = pd_ser.add('php', fill_value=0)\n",
    "# new_ser = pd_ser.add(add_ser, fill_value=0)\n",
    "ser_1 = pd.Series(['100', '400', 'python', '300.12', '200'])\n",
    "ser_2 = pd.Series(['php'])\n",
    "new_ser1 = pd.concat([ser_1, ser_2], ignore_index=True)\n",
    "ser_1._append(ser_2, ignore_index=True)\n",
    "# print(new_ser1)\n",
    "# new_ser2"
   ]
  },
  {
   "cell_type": "code",
   "execution_count": 187,
   "metadata": {},
   "outputs": [
    {
     "data": {
      "text/plain": [
       "0    1\n",
       "1    2\n",
       "2    3\n",
       "3    4\n",
       "4    5\n",
       "dtype: int64"
      ]
     },
     "execution_count": 187,
     "metadata": {},
     "output_type": "execute_result"
    }
   ],
   "source": [
    "# Use filter/where clause in series\n",
    "\n",
    "list_1 = [x for x in range(1,11)]\n",
    "ser_3 = pd.Series(list_1)\n",
    "# ser_4 = ser_3.where(ser_3 < 6)\n",
    "# ser_4 = ser_4.dropna\n",
    "ser_4 = ser_3[ser_3 < 6]\n",
    "ser_4"
   ]
  },
  {
   "cell_type": "code",
   "execution_count": 219,
   "metadata": {},
   "outputs": [
    {
     "data": {
      "text/plain": [
       "A    1\n",
       "E    5\n",
       "C    3\n",
       "B    2\n",
       "D    4\n",
       "dtype: int64"
      ]
     },
     "execution_count": 219,
     "metadata": {},
     "output_type": "execute_result"
    }
   ],
   "source": [
    "# Change order of index\n",
    "\n",
    "ser_5 = pd.Series({'A':1,'B':2,'C':3,'D':4,'E':5})\n",
    "# ser_5 = ser_5.reindex(index = rdm.shuffle(ser_5.index.to_list()))\n",
    "idx_list = ser_5.index.to_list()\n",
    "rdm.shuffle(idx_list)\n",
    "ser_5 = ser_5.reindex(index = idx_list)\n",
    "ser_5"
   ]
  },
  {
   "cell_type": "code",
   "execution_count": 229,
   "metadata": {},
   "outputs": [
    {
     "name": "stdout",
     "output_type": "stream",
     "text": [
      "5.5 3.0276503540974917\n"
     ]
    }
   ],
   "source": [
    "# Finding mean and standard deviation\n",
    "# ser_3.std()\n",
    "print(f\"{ser_3.mean()} {ser_3.std()}\")"
   ]
  },
  {
   "cell_type": "code",
   "execution_count": 243,
   "metadata": {},
   "outputs": [
    {
     "data": {
      "text/plain": [
       "0    1\n",
       "2    3\n",
       "4    5\n",
       "dtype: int64"
      ]
     },
     "execution_count": 243,
     "metadata": {},
     "output_type": "execute_result"
    }
   ],
   "source": [
    "# Using sql 'minus' in series\n",
    "ser_6 = pd.Series([x for x in range(1,6)])\n",
    "ser_7 = pd.Series([x for x in range(2,11,2)])\n",
    "# minus_ser = list(set(ser_6) - set(ser_7))\n",
    "# pd.Series(minus_ser)\n",
    "ser_6[~ser_6.isin(ser_7)]"
   ]
  },
  {
   "cell_type": "code",
   "execution_count": 252,
   "metadata": {},
   "outputs": [
    {
     "data": {
      "text/plain": [
       "array([ 1,  2,  3,  4,  5,  6,  8, 10], dtype=int64)"
      ]
     },
     "execution_count": 252,
     "metadata": {},
     "output_type": "execute_result"
    }
   ],
   "source": [
    "# Return rows from 2 series where rows are not matching in both series\n",
    "\n",
    "# Method-1\n",
    "ser_6[~ser_6.isin(ser_7)]._append(ser_7[~ser_7.isin(ser_6)], ignore_index = True)\n",
    "\n",
    "# Method-2\n",
    "union_ser = pd.Series(np.union1d(ser_6,ser_7))\n",
    "intrsect_ser = pd.Series(np.intersect1d(ser_6,ser_7))\n",
    "union_ser[~union_ser.isin(intrsect_ser)]"
   ]
  },
  {
   "cell_type": "code",
   "execution_count": 292,
   "metadata": {},
   "outputs": [
    {
     "data": {
      "text/plain": [
       "0    3\n",
       "dtype: int64"
      ]
     },
     "execution_count": 292,
     "metadata": {},
     "output_type": "execute_result"
    }
   ],
   "source": [
    "# Calculate frequency of values in a series/Group by\n",
    "rdm.seed(5)\n",
    "ser_8 = pd.Series([rdm.randint(1,9) for i in range(0,40)])\n",
    "ser_8.value_counts().sort_values(ascending=False)\n",
    "ser_8.mode()"
   ]
  },
  {
   "cell_type": "code",
   "execution_count": 313,
   "metadata": {},
   "outputs": [
    {
     "data": {
      "text/plain": [
       "0     Other\n",
       "1         5\n",
       "2         5\n",
       "3     Other\n",
       "4     Other\n",
       "5     Other\n",
       "6     Other\n",
       "7     Other\n",
       "8     Other\n",
       "9     Other\n",
       "10        5\n",
       "11    Other\n",
       "12        5\n",
       "13    Other\n",
       "14        5\n",
       "dtype: object"
      ]
     },
     "execution_count": 313,
     "metadata": {},
     "output_type": "execute_result"
    }
   ],
   "source": [
    "# Update a series value if highest value is not matching\n",
    "rdm.seed(71)\n",
    "ser_9 = pd.Series([rdm.randint(1,5) for i in range(0,15)])\n",
    "ser_10 = ser_9.astype(str)\n",
    "ser_10[~ser_10.isin(ser_10.mode())] = 'Other'\n",
    "ser_10\n",
    "# ser_9.value_counts()\n",
    "# print(ser_9.mode())"
   ]
  },
  {
   "cell_type": "code",
   "execution_count": 331,
   "metadata": {},
   "outputs": [
    {
     "name": "stdout",
     "output_type": "stream",
     "text": [
      "Index([1, 2, 10, 12, 14], dtype='int64')\n"
     ]
    }
   ],
   "source": [
    "# Find index of elements which are multiple of 5\n",
    "print(ser_9[ser_9 % 5 == 0].index)\n",
    "# list_5 = list(ser_9[ser_9 % 5 == 0].index)\n",
    "# list_5\n",
    "# ser_10 = ser_9.where(ser_9 % 5 == 0)\n",
    "# ser_10"
   ]
  },
  {
   "cell_type": "code",
   "execution_count": 337,
   "metadata": {},
   "outputs": [
    {
     "data": {
      "text/plain": [
       "2    5\n",
       "5    2\n",
       "6    2\n",
       "8    1\n",
       "dtype: int64"
      ]
     },
     "execution_count": 337,
     "metadata": {},
     "output_type": "execute_result"
    }
   ],
   "source": [
    "# Fetch values from a given position\n",
    "list_6 = [2, 5, 6, 8]\n",
    "# ser_9[list_6]\n",
    "ser_9.take(list_6)"
   ]
  },
  {
   "cell_type": "code",
   "execution_count": 380,
   "metadata": {},
   "outputs": [],
   "source": [
    "# Inheritance\n",
    "class A:\n",
    "    def __init__(self, n):\n",
    "        self.n = n\n",
    "\n",
    "    def display(self):\n",
    "        print(self.n)\n",
    "\n",
    "class B(A):\n",
    "\n",
    "    def __init__(self, a, b):\n",
    "        self.b = b\n",
    "        super().__init__(a)\n",
    "        # A.__init__(self, n)\n",
    "    def display_ch(self):\n",
    "        print(self.b + 1)\n",
    "    # def __init__(self, n, roll):\n",
    "    #     self.roll = roll\n",
    "    #     A.__init__(self, n)"
   ]
  },
  {
   "cell_type": "code",
   "execution_count": 382,
   "metadata": {},
   "outputs": [
    {
     "name": "stdout",
     "output_type": "stream",
     "text": [
      "23\n"
     ]
    }
   ],
   "source": [
    "obj_1 = B(23, 56)\n",
    "obj_1.display()"
   ]
  },
  {
   "cell_type": "code",
   "execution_count": 386,
   "metadata": {},
   "outputs": [
    {
     "data": {
      "text/plain": [
       "[4, 2, 1]"
      ]
     },
     "execution_count": 386,
     "metadata": {},
     "output_type": "execute_result"
    }
   ],
   "source": [
    "# Reversing list\n",
    "list_6 = [1, 2, 4]\n",
    "list_7 = list(reversed(list_6))\n",
    "list_7"
   ]
  },
  {
   "cell_type": "code",
   "execution_count": 402,
   "metadata": {},
   "outputs": [
    {
     "data": {
      "text/plain": [
       "1     6\n",
       "3     1\n",
       "6     1\n",
       "7     3\n",
       "9     6\n",
       "11    4\n",
       "17    4\n",
       "19    5\n",
       "dtype: int64"
      ]
     },
     "execution_count": 402,
     "metadata": {},
     "output_type": "execute_result"
    }
   ],
   "source": [
    "# Fetch values based on index:\n",
    "rdm.seed(5)\n",
    "ser_11 = pd.Series(rdm.randint(1,9) for i in range(0,21))\n",
    "list_8 = [int(i) for i in input().split()]\n",
    "# list_8\n",
    "ser_12 = ser_11.take(list_8)\n",
    "ser_12"
   ]
  },
  {
   "cell_type": "code",
   "execution_count": 452,
   "metadata": {},
   "outputs": [
    {
     "name": "stdout",
     "output_type": "stream",
     "text": [
      "Index([19, 8, 11, 20, 16, 0, 14, 7, 20, 1, 5, 3, 11, 15, 7, 12, 17, 3, 18, 7,\n",
      "       0],\n",
      "      dtype='int64')\n",
      "[False False False False False  True False False False False False False\n",
      " False False False False False False False False  True]\n"
     ]
    }
   ],
   "source": [
    "rdm.seed(5)\n",
    "ser_14 = pd.Series([rdm.randint(0,21) for i in range(0,21)])\n",
    "ser_13 = pd.Series([19, 8, 14, 16, 1])\n",
    "list_10 = [pd.Index(ser_14).get_loc(i) for i in ser_13]\n",
    "# idx_1 = pd.Index(ser_14)\n",
    "# print(idx_1)\n",
    "# print(idx_1.get_loc(9))\n",
    "# ser_14\n",
    "# list_10 = [pd.Index(ser_14).get_loc(i) for i in ser_14.values if i in ser_13]\n",
    "# list_10\n",
    "print(pd.Index(ser_14))\n",
    "print(pd.Index(ser_14).get_loc(0))"
   ]
  },
  {
   "cell_type": "code",
   "execution_count": 446,
   "metadata": {},
   "outputs": [
    {
     "data": {
      "text/plain": [
       "Index([1, 2, 3, 4, 5, 6, 7, 8, 9, 10], dtype='int64')"
      ]
     },
     "execution_count": 446,
     "metadata": {},
     "output_type": "execute_result"
    }
   ],
   "source": [
    "series1 = pd.Series([1, 2, 3, 4, 5, 6, 7, 8, 9, 10])\n",
    "series2 = pd.Series([1, 3, 5, 7, 10])\n",
    "# print(\"Original Series:\")\n",
    "# print(series1)\n",
    "# print(series2)\n",
    "pd.Index(series1)\n",
    "# result = [pd.Index(series1).get_loc(i) for i in series2]\n",
    "# print(\"Positions of items of series2 in series1:\")\n",
    "# print(result)"
   ]
  },
  {
   "cell_type": "code",
   "execution_count": 459,
   "metadata": {},
   "outputs": [
    {
     "data": {
      "text/plain": [
       "0       PhP\n",
       "1    PyhtoN\n",
       "2      JavA\n",
       "3        C#\n",
       "dtype: object"
      ]
     },
     "execution_count": 459,
     "metadata": {},
     "output_type": "execute_result"
    }
   ],
   "source": [
    "# Modifying values in a series\n",
    "ser_15 = pd.Series(['php','pyhton','java','c#'])\n",
    "ser_15\n",
    "for i,str in enumerate(ser_15):\n",
    "    ser_15[i] = str[0].upper() + str[1:-1] + str[-1].upper()\n",
    "\n",
    "ser_15"
   ]
  },
  {
   "cell_type": "code",
   "execution_count": 460,
   "metadata": {},
   "outputs": [
    {
     "data": {
      "text/plain": [
       "0    3\n",
       "1    6\n",
       "2    4\n",
       "3    2\n",
       "dtype: int64"
      ]
     },
     "execution_count": 460,
     "metadata": {},
     "output_type": "execute_result"
    }
   ],
   "source": [
    "# Using lambda in a series\n",
    "ser_16 = pd.Series(['php','pyhton','java','c#'])\n",
    "ser_17 = ser_16.map(lambda x : len(x))\n",
    "ser_17"
   ]
  },
  {
   "cell_type": "code",
   "execution_count": 481,
   "metadata": {},
   "outputs": [
    {
     "data": {
      "text/plain": [
       "[nan, nan, 241.0, 97.0, -212.0, -195.0, 481.0]"
      ]
     },
     "execution_count": 481,
     "metadata": {},
     "output_type": "execute_result"
    }
   ],
   "source": [
    "# Finding difference between consecutive elements\n",
    "rdm.seed(5)\n",
    "ser_17  = pd.Series(rdm.sample(range(0,340), 7))\n",
    "# ser_17\n",
    "list(ser_17.diff().diff())\n"
   ]
  },
  {
   "cell_type": "code",
   "execution_count": 486,
   "metadata": {},
   "outputs": [
    {
     "data": {
      "text/plain": [
       "0   2015-01-01 00:00:00\n",
       "1   2016-10-02 00:00:00\n",
       "2   2018-03-07 00:00:00\n",
       "3   2014-05-06 00:00:00\n",
       "4   2016-04-12 00:00:00\n",
       "5   2019-04-06 11:20:00\n",
       "dtype: datetime64[ns]"
      ]
     },
     "execution_count": 486,
     "metadata": {},
     "output_type": "execute_result"
    }
   ],
   "source": [
    "# Converting dated to datetime\n",
    "ser_18 = pd.Series(['01 Jan 2015' ,'10-02-2016' ,'20180307' ,'2014/05/06' ,'2016-04-12' ,'2019-04-06T11:20'])\n",
    "ser_19 = pd.to_datetime(ser_18,format='mixed')\n",
    "ser_19"
   ]
  },
  {
   "cell_type": "code",
   "execution_count": 517,
   "metadata": {},
   "outputs": [
    {
     "name": "stdout",
     "output_type": "stream",
     "text": [
      "Day of Month\n",
      "[1, 2, 7, 6, 12, 6]\n",
      "Day of Year\n",
      "[1, 276, 66, 126, 103, 96]\n",
      "day of week\n",
      "['Thursday', 'Sunday', 'Wednesday', 'Tuesday', 'Tuesday', 'Saturday']\n"
     ]
    }
   ],
   "source": [
    "# Return differnet date components from a series\n",
    "print('Day of Month')\n",
    "print(list(pd.to_datetime(ser_18,format='mixed').dt.day))\n",
    "\n",
    "print('Day of Year')\n",
    "print(list(pd.to_datetime(ser_18,format='mixed').dt.day_of_year))\n",
    "\n",
    "print('day of week')\n",
    "print(list(pd.to_datetime(ser_18,format='mixed').dt.day_name()))"
   ]
  },
  {
   "cell_type": "code",
   "execution_count": 566,
   "metadata": {},
   "outputs": [
    {
     "name": "stdout",
     "output_type": "stream",
     "text": [
      "1     Green\n",
      "2    Orange\n",
      "4    Yellow\n",
      "5     White\n",
      "dtype: object\n",
      "1     Green\n",
      "2    Orange\n",
      "4    Yellow\n",
      "5     White\n",
      "dtype: object\n"
     ]
    }
   ],
   "source": [
    "# Finding elements containing specific characters\n",
    "import re\n",
    "from collections import Counter\n",
    "# Get values where 2 vowels are available\n",
    "ser_20 = pd.Series(['Red' ,'Green' ,'Orange' ,'Pink' ,'Yellow' ,'White'])\n",
    "# ser_20[ser_20.map(lambda x : )]\n",
    "# SOLUTION 1\n",
    "print(ser_20[ser_20.str.count('[aeiou]', re.I) >=2])\n",
    "# SOLUTION 2\n",
    "ser_21 = ser_20.map(lambda x : sum(Counter(x.lower()).get(i, 0) for i in list('aeiou')) >= 2)\n",
    "print(ser_20[ser_21])\n",
    "# Counter('Redd'.lower())"
   ]
  },
  {
   "cell_type": "code",
   "execution_count": 595,
   "metadata": {},
   "outputs": [
    {
     "name": "stdout",
     "output_type": "stream",
     "text": [
      "16.492422502470642\n",
      "16.492422502470642\n"
     ]
    },
    {
     "data": {
      "text/plain": [
       "0   -10\n",
       "1    -6\n",
       "2    -4\n",
       "3    -1\n",
       "4    -1\n",
       "5     1\n",
       "6     4\n",
       "7     4\n",
       "8     2\n",
       "9     9\n",
       "dtype: int64"
      ]
     },
     "execution_count": 595,
     "metadata": {},
     "output_type": "execute_result"
    }
   ],
   "source": [
    "# Finding Eucladian distance\n",
    "import math\n",
    "ser_22 = pd.Series(list(range(1,11)))\n",
    "ser_23 = pd.Series([11,8,7,5,6,5,3,4,7,1])\n",
    "# Solution 1\n",
    "print(math.sqrt(sum(ser_23.subtract(ser_22).multiply(ser_23.subtract(ser_22)))))\n",
    "# Solution 2\n",
    "print(np.linalg.norm(ser_22 - ser_23))"
   ]
  },
  {
   "cell_type": "code",
   "execution_count": 617,
   "metadata": {},
   "outputs": [
    {
     "name": "stdout",
     "output_type": "stream",
     "text": [
      "0    1\n",
      "1    8\n",
      "2    7\n",
      "3    5\n",
      "4    6\n",
      "5    5\n",
      "6    3\n",
      "7    4\n",
      "8    7\n",
      "9    1\n",
      "dtype: int64\n",
      "[ 7 -1 -2  1 -1 -2  1  3 -6]\n",
      "[ 1 -1 -1  1 -1 -1  1  1 -1]\n",
      "[1 4 8]\n"
     ]
    }
   ],
   "source": [
    "# Finding value with smaller neighbours\n",
    "ser_25 = pd.Series([1 ,8 ,7 ,5 ,6 ,5 ,3 ,4 ,7 ,1])\n",
    "# ser_25[-2]\n",
    "# len(ser_25)\n",
    "# SOLUTION 1\n",
    "list_11 = []\n",
    "for idx,val in enumerate(ser_25):\n",
    "    if idx == 0 and val > ser_25[1]:\n",
    "        list_11.append(idx)\n",
    "    elif idx == len(ser_25)-1 and val > ser_25[idx-1]:\n",
    "        list_11.append(idx)\n",
    "    elif idx != 0 and idx != len(ser_25)-1 and val > ser_25[idx-1] and val > ser_25[idx+1]:\n",
    "        list_11.append(idx)\n",
    "\n",
    "# SOLUTION 2\n",
    "print(ser_25)\n",
    "print(np.diff(ser_25))\n",
    "print(np.sign(np.diff(ser_25)))\n",
    "temp = np.diff(np.sign(np.diff(ser_25)))\n",
    "temp_1 = np.where(temp == -2)[0]\n",
    "result = np.where(temp == -2)[0] + 1\n",
    "print(result)"
   ]
  },
  {
   "cell_type": "code",
   "execution_count": 659,
   "metadata": {},
   "outputs": [
    {
     "name": "stdout",
     "output_type": "stream",
     "text": [
      "a    2\n",
      "b    2\n",
      "c    3\n",
      "     3\n",
      "d    3\n",
      "e    2\n",
      "f    2\n",
      "i    1\n",
      "dtype: int64\n",
      "abcidefiabcdefiicd\n"
     ]
    },
    {
     "data": {
      "text/plain": [
       "c    3\n",
       "     3\n",
       "d    3\n",
       "a    2\n",
       "b    2\n",
       "e    2\n",
       "f    2\n",
       "i    1\n",
       "Name: count, dtype: int64"
      ]
     },
     "execution_count": 659,
     "metadata": {},
     "output_type": "execute_result"
    }
   ],
   "source": [
    "# Replace string with least frequent character\n",
    "str_1 = 'abc def abcdef icd'\n",
    "# Solution 1\n",
    "ser_26 = pd.Series(Counter(str_1))\n",
    "print(ser_26)\n",
    "idx_2 = pd.Index(ser_26.sort_values())[0]\n",
    "str_2 = ser_26.index[ser_26 == idx_2].to_list()[0]\n",
    "# print(idx_2)\n",
    "print(str_1.replace(' ',str_2))\n",
    "\n",
    "# Solution 2\n",
    "ser_27 = pd.Series(list(str_1))\n",
    "str_2 = ser_27.value_counts().dropna().index[-1]\n",
    "result = \"\".join(ser_27.replace(' ',str_2))\n",
    "result"
   ]
  },
  {
   "cell_type": "code",
   "execution_count": 715,
   "metadata": {},
   "outputs": [
    {
     "name": "stdout",
     "output_type": "stream",
     "text": [
      "0     11.326739\n",
      "1     14.061101\n",
      "2     15.289452\n",
      "3     18.676357\n",
      "4     14.017667\n",
      "5     18.213475\n",
      "6     -2.332880\n",
      "7      7.709321\n",
      "8     18.697204\n",
      "9     11.926415\n",
      "10    17.720711\n",
      "11    -0.396263\n",
      "12     7.788588\n",
      "13     2.671175\n",
      "dtype: float64\n",
      "[1.0, 0.02, 0.07, -0.37, -0.2, 0.43, 0.16, 0.49, -0.83, -0.28, -0.66]\n"
     ]
    }
   ],
   "source": [
    "rdm.seed(5)\n",
    "ser_29 = pd.Series([round(rdm.uniform(-3, 20),6) for x in range(0,14)])\n",
    "print(ser_29)\n",
    "print([round(ser_29.autocorr(i),2) for i in range(11)])\n",
    "# print(ser_29.autocorr())\n",
    "# print(ser_30.autocorr())\n",
    "# ser_29.autocorr()\n",
    "\n",
    "# np.random.randn(5)"
   ]
  },
  {
   "cell_type": "code",
   "execution_count": 37,
   "metadata": {},
   "outputs": [
    {
     "name": "stdout",
     "output_type": "stream",
     "text": [
      "2020-01-01\n",
      "2\n",
      "2020-12-31\n",
      "DatetimeIndex(['2020-01-05', '2020-01-12', '2020-01-19', '2020-01-26',\n",
      "               '2020-02-02', '2020-02-09', '2020-02-16', '2020-02-23',\n",
      "               '2020-03-01', '2020-03-08', '2020-03-15', '2020-03-22',\n",
      "               '2020-03-29', '2020-04-05', '2020-04-12', '2020-04-19',\n",
      "               '2020-04-26', '2020-05-03', '2020-05-10', '2020-05-17',\n",
      "               '2020-05-24', '2020-05-31', '2020-06-07', '2020-06-14',\n",
      "               '2020-06-21', '2020-06-28', '2020-07-05', '2020-07-12',\n",
      "               '2020-07-19', '2020-07-26', '2020-08-02', '2020-08-09',\n",
      "               '2020-08-16', '2020-08-23', '2020-08-30', '2020-09-06',\n",
      "               '2020-09-13', '2020-09-20', '2020-09-27', '2020-10-04',\n",
      "               '2020-10-11', '2020-10-18', '2020-10-25', '2020-11-01',\n",
      "               '2020-11-08', '2020-11-15', '2020-11-22', '2020-11-29',\n",
      "               '2020-12-06', '2020-12-13', '2020-12-20', '2020-12-27'],\n",
      "              dtype='datetime64[ns]', freq='W-SUN')\n",
      "0    2020-01-05\n",
      "1    2020-01-12\n",
      "2    2020-01-19\n",
      "3    2020-01-26\n",
      "4    2020-02-02\n",
      "5    2020-02-09\n",
      "6    2020-02-16\n",
      "7    2020-02-23\n",
      "8    2020-03-01\n",
      "9    2020-03-08\n",
      "10   2020-03-15\n",
      "11   2020-03-22\n",
      "12   2020-03-29\n",
      "13   2020-04-05\n",
      "14   2020-04-12\n",
      "15   2020-04-19\n",
      "16   2020-04-26\n",
      "17   2020-05-03\n",
      "18   2020-05-10\n",
      "19   2020-05-17\n",
      "20   2020-05-24\n",
      "21   2020-05-31\n",
      "22   2020-06-07\n",
      "23   2020-06-14\n",
      "24   2020-06-21\n",
      "25   2020-06-28\n",
      "26   2020-07-05\n",
      "27   2020-07-12\n",
      "28   2020-07-19\n",
      "29   2020-07-26\n",
      "30   2020-08-02\n",
      "31   2020-08-09\n",
      "32   2020-08-16\n",
      "33   2020-08-23\n",
      "34   2020-08-30\n",
      "35   2020-09-06\n",
      "36   2020-09-13\n",
      "37   2020-09-20\n",
      "38   2020-09-27\n",
      "39   2020-10-04\n",
      "40   2020-10-11\n",
      "41   2020-10-18\n",
      "42   2020-10-25\n",
      "43   2020-11-01\n",
      "44   2020-11-08\n",
      "45   2020-11-15\n",
      "46   2020-11-22\n",
      "47   2020-11-29\n",
      "48   2020-12-06\n",
      "49   2020-12-13\n",
      "50   2020-12-20\n",
      "51   2020-12-27\n",
      "dtype: datetime64[ns]\n"
     ]
    }
   ],
   "source": [
    "# Display all the sundays of given year\n",
    "import pandas as pd\n",
    "import datetime as dtm\n",
    "# start_date = dtm.datetime.strptime('2024-08-18','%Y-%m-%d')\n",
    "# start_date\n",
    "year_1 = input()\n",
    "start_date = dtm.date.min.replace(year=int(year_1))\n",
    "# for i in range(1,8):\n",
    "    # if (start_date + pd.Timedelta(days=i)).weekday() == 6:\n",
    "        # start_date = start_date + pd.Timedelta(days=i)\n",
    "    #     break\n",
    "    # else:\n",
    "    #     continue\n",
    "print(start_date)\n",
    "print(start_date.weekday())\n",
    "last_day = dtm.date.max.replace(year=int(year_1))\n",
    "date_list = pd.date_range(start_date,last_day,freq='W-SUN')\n",
    "date_series = pd.Series(date_list)\n",
    "print(last_day)\n",
    "print(date_list)\n",
    "print(date_series)"
   ]
  },
  {
   "cell_type": "code",
   "execution_count": 74,
   "metadata": {},
   "outputs": [
    {
     "name": "stdout",
     "output_type": "stream",
     "text": [
      "0    9\n",
      "1    4\n",
      "2    5\n",
      "3    8\n",
      "4    0\n",
      "dtype: int64\n",
      "<class 'pandas.core.frame.DataFrame'>\n"
     ]
    }
   ],
   "source": [
    "import random as rdm\n",
    "rdm.seed(5)\n",
    "# convert a series into dataframe with another column having values as index\n",
    "ser_30 = pd.Series(rdm.randint(0,9) for i in range(0,5))\n",
    "# print(rdm.randint(1,9))\n",
    "list_12 = list(ser_30.index)\n",
    "# print(ser_30.add(list_12))\n",
    "# print(ser_30)\n",
    "# df_2 = pd.DataFrame(ser_30)\n",
    "# df_2[\"column_1\"] = list_12\n",
    "# df_2\n",
    "ser_30\n",
    "ser_31 = ser_30.reset_index()\n",
    "print(ser_30)\n",
    "print(type(ser_31))"
   ]
  },
  {
   "cell_type": "code",
   "execution_count": 72,
   "metadata": {},
   "outputs": [
    {
     "name": "stdout",
     "output_type": "stream",
     "text": [
      "['A', 'B', 'C', 'D', 'E', 'F', 'G', 'H', 'I', 'J', 'K', 'L', 'M', 'N', 'O', 'P']\n",
      "[0 1 2 3 4 5 6 7]\n",
      "{'A': 0, 'B': 1, 'C': 2, 'D': 3, 'E': 4, 'F': 5, 'G': 6, 'H': 7}\n",
      "A    0\n",
      "B    1\n",
      "C    2\n",
      "D    3\n",
      "E    4\n",
      "F    5\n",
      "G    6\n",
      "H    7\n",
      "dtype: int32\n",
      "  index  0\n",
      "0     A  0\n",
      "1     B  1\n",
      "2     C  2\n",
      "3     D  3\n",
      "4     E  4\n",
      "5     F  5\n",
      "6     G  6\n",
      "7     H  7\n"
     ]
    }
   ],
   "source": [
    "import numpy as np\n",
    "char_list = list('ABCDEFGHIJKLMNOP')\n",
    "num_array = np.arange(8)\n",
    "num_dict = dict(zip(char_list, num_array))\n",
    "num_ser = pd.Series(num_dict)\n",
    "print(char_list)\n",
    "print(num_array)\n",
    "print(num_dict)\n",
    "print(num_ser)\n",
    "df_2 = num_ser.to_frame().reset_index()\n",
    "print(df_2)"
   ]
  },
  {
   "cell_type": "code",
   "execution_count": 83,
   "metadata": {},
   "outputs": [
    {
     "data": {
      "text/html": [
       "<div>\n",
       "<style scoped>\n",
       "    .dataframe tbody tr th:only-of-type {\n",
       "        vertical-align: middle;\n",
       "    }\n",
       "\n",
       "    .dataframe tbody tr th {\n",
       "        vertical-align: top;\n",
       "    }\n",
       "\n",
       "    .dataframe thead th {\n",
       "        text-align: right;\n",
       "    }\n",
       "</style>\n",
       "<table border=\"1\" class=\"dataframe\">\n",
       "  <thead>\n",
       "    <tr style=\"text-align: right;\">\n",
       "      <th></th>\n",
       "      <th>0</th>\n",
       "      <th>1</th>\n",
       "    </tr>\n",
       "  </thead>\n",
       "  <tbody>\n",
       "    <tr>\n",
       "      <th>0</th>\n",
       "      <td>0</td>\n",
       "      <td>p</td>\n",
       "    </tr>\n",
       "    <tr>\n",
       "      <th>1</th>\n",
       "      <td>1</td>\n",
       "      <td>q</td>\n",
       "    </tr>\n",
       "    <tr>\n",
       "      <th>2</th>\n",
       "      <td>2</td>\n",
       "      <td>r</td>\n",
       "    </tr>\n",
       "    <tr>\n",
       "      <th>3</th>\n",
       "      <td>3</td>\n",
       "      <td>s</td>\n",
       "    </tr>\n",
       "    <tr>\n",
       "      <th>4</th>\n",
       "      <td>4</td>\n",
       "      <td>t</td>\n",
       "    </tr>\n",
       "    <tr>\n",
       "      <th>5</th>\n",
       "      <td>5</td>\n",
       "      <td>u</td>\n",
       "    </tr>\n",
       "    <tr>\n",
       "      <th>6</th>\n",
       "      <td>6</td>\n",
       "      <td>v</td>\n",
       "    </tr>\n",
       "    <tr>\n",
       "      <th>7</th>\n",
       "      <td>7</td>\n",
       "      <td>w</td>\n",
       "    </tr>\n",
       "    <tr>\n",
       "      <th>8</th>\n",
       "      <td>8</td>\n",
       "      <td>x</td>\n",
       "    </tr>\n",
       "    <tr>\n",
       "      <th>9</th>\n",
       "      <td>9</td>\n",
       "      <td>y</td>\n",
       "    </tr>\n",
       "  </tbody>\n",
       "</table>\n",
       "</div>"
      ],
      "text/plain": [
       "   0  1\n",
       "0  0  p\n",
       "1  1  q\n",
       "2  2  r\n",
       "3  3  s\n",
       "4  4  t\n",
       "5  5  u\n",
       "6  6  v\n",
       "7  7  w\n",
       "8  8  x\n",
       "9  9  y"
      ]
     },
     "execution_count": 83,
     "metadata": {},
     "output_type": "execute_result"
    }
   ],
   "source": [
    "# stack to series in pandas horizintally\n",
    "ser_32 = pd.Series(i for i in range(0,10))\n",
    "ser_33 = pd.Series(list('pqrstuvwxy'))\n",
    "ser_34 = pd.concat([ser_32, ser_33], axis = 1)\n",
    "ser_34"
   ]
  },
  {
   "cell_type": "code",
   "execution_count": 95,
   "metadata": {},
   "outputs": [
    {
     "name": "stdout",
     "output_type": "stream",
     "text": [
      "0    2\n",
      "1    2\n",
      "2    0\n",
      "3    3\n",
      "4    1\n",
      "5    0\n",
      "6    1\n",
      "7    0\n",
      "8    2\n",
      "9    3\n",
      "dtype: int64\n",
      "0    1\n",
      "1    3\n",
      "2    0\n",
      "3    1\n",
      "4    0\n",
      "5    1\n",
      "6    3\n",
      "7    2\n",
      "8    1\n",
      "9    3\n",
      "dtype: int64\n",
      "0    False\n",
      "1    False\n",
      "2     True\n",
      "3    False\n",
      "4    False\n",
      "5    False\n",
      "6    False\n",
      "7    False\n",
      "8    False\n",
      "9     True\n",
      "dtype: bool\n"
     ]
    }
   ],
   "source": [
    "# Check equality of series in pandas\n",
    "rdm.seed(5)\n",
    "ser_35 = pd.Series(rdm.randint(0,3) for i in range(0,10))\n",
    "ser_36 = pd.Series(rdm.randint(0,3) for i in range(0,10))\n",
    "print(ser_35)\n",
    "print(ser_36)\n",
    "print(ser_35.eq(ser_36))\n",
    "# print(ser_35 == ser_36)"
   ]
  },
  {
   "cell_type": "code",
   "execution_count": 114,
   "metadata": {},
   "outputs": [
    {
     "name": "stdout",
     "output_type": "stream",
     "text": [
      "0    2\n",
      "1    2\n",
      "2    0\n",
      "3    3\n",
      "4    1\n",
      "5    0\n",
      "6    1\n",
      "7    0\n",
      "8    2\n",
      "9    3\n",
      "dtype: int64\n",
      "0\n",
      "3\n",
      "2\n",
      "3\n",
      "3\n",
      "2\n"
     ]
    }
   ],
   "source": [
    "# Find first occurance of largest and smallest value\n",
    "print(ser_35)\n",
    "print(ser_35.min())\n",
    "print(ser_35.max())\n",
    "print(ser_35.index[ser_35 == ser_35.min()].min())\n",
    "print(ser_35.index[ser_35 == ser_35.max()].min())\n",
    "print(ser_35.idxmax())\n",
    "print(ser_35.idxmin())\n",
    "# ser_35.index[ser_35 == ser_35.max()].min()"
   ]
  },
  {
   "cell_type": "code",
   "execution_count": 136,
   "metadata": {},
   "outputs": [
    {
     "name": "stdout",
     "output_type": "stream",
     "text": [
      "      W     X   Y   Z\n",
      "0  68.0  78.0  84  86\n",
      "1  75.0  75.0  94  97\n",
      "2  86.0   NaN  89  96\n",
      "3  80.0  80.0  86  72\n",
      "4   NaN  86.0  86  83\n",
      "0    68.0\n",
      "1    75.0\n",
      "2    86.0\n",
      "3    80.0\n",
      "4     NaN\n",
      "dtype: float64\n",
      "       W      X     Y     Z\n",
      "0  False   True  True  True\n",
      "1  False  False  True  True\n",
      "2  False   True  True  True\n",
      "3  False  False  True  True\n",
      "4   True   True  True  True\n"
     ]
    }
   ],
   "source": [
    "# Check inequality between dataframe and series\n",
    "# np.random.seed(5)\n",
    "# arr_1 = np.random.randn(5, 4)\n",
    "# arr_1[4,0] = 'NaN'\n",
    "# df_3 = pd.DataFrame(arr_1)\n",
    "df_data = pd.DataFrame({'W':[68,75,86,80,None],'X':[78,75,None,80,86], 'Y':[84,94,89,86,86],'Z':[86,97,96,72,83]});\n",
    "sr_data = pd.Series([68, 75, 86, 80, None])\n",
    "print(df_data)\n",
    "print(sr_data)\n",
    "print(df_data.ne(sr_data, axis = 0))"
   ]
  }
 ],
 "metadata": {
  "kernelspec": {
   "display_name": "Python 3",
   "language": "python",
   "name": "python3"
  },
  "language_info": {
   "codemirror_mode": {
    "name": "ipython",
    "version": 3
   },
   "file_extension": ".py",
   "mimetype": "text/x-python",
   "name": "python",
   "nbconvert_exporter": "python",
   "pygments_lexer": "ipython3",
   "version": "3.12.2"
  }
 },
 "nbformat": 4,
 "nbformat_minor": 2
}
